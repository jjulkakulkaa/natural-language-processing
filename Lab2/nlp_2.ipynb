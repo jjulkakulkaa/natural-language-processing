{
  "cells": [
    {
      "cell_type": "markdown",
      "metadata": {
        "id": "_7s7ZGoLtpjR"
      },
      "source": [
        "## Wczytywanie danych\n",
        "Paczka Sklearn (Scikit Learn) to kolejne bardzo popularne narzędzie do uczenia maszynowego. Posiada bardzo przejrzyste API i spore wsparcie (scikit-learn.org/). W dzisiejszych zadaniach skupimy się na ładowaniu zbiorów danych, ich transformacji oraz algorytmach klasyfikacji. Podczas dzisiejszych laboratoriów wykorzystamy:\n",
        "<ul>\n",
        "    <li>NLTK - udostępniające metody prostego przetwarzania tekstu (tokenizacja, lematyzacja, stemming)</li>\n",
        "    <li>Sklearn - paczkę do uczenia maszynowego</li>\n",
        "    <li>Pandas - bibliotekę do wczytywania i obsługi zbiorów danych</li>\n",
        "</ul>\n",
        "<span style=\"color: #ff0000\">Ponieważ część kodu jest już stworzona, w każdym zadaniu wyszczególnione są numery linii, w których należy wprowadzić modyfikacje, aby rozwiązać zadanie. Jeśli nie widzisz numeracji linii w kodzie w otwartym notebooku - możesz włączyć tę funkcjonalność poprzez wybór View -> toggle line numbers w górnym menu.</span><br/><br/>\n",
        "Najpierw wczytajmy dane tekstowe ze zbioru, w którym posiadamy zestaw wiadomości e-mail oznaczonych jako spamowe lub niespamowe.\n",
        "Ponieważ będziemy rozwiązywać problem klasyfikacji, oddzielamy dane do trenowania klasyfikatora oraz do weryfikacji jego jakości.\n",
        "<br/>\n",
        "\n",
        "<strong>Przeanalizuj i uruchom poniższy fragment kodu.</strong> Załaduje on odpowiednie dane do dwóch obiektów:\n",
        "<ol>\n",
        "<li>train: zbiór treningowy - dokumenty na których nauczymy klasyfikator</li>\n",
        "<li>test: zbiór testowy - dokumenty na których przetestujemy klasyfikator</li>\n",
        "</ol>"
      ]
    },
    {
      "cell_type": "code",
      "execution_count": 1,
      "metadata": {
        "collapsed": true,
        "colab": {
          "base_uri": "https://localhost:8080/",
          "height": 443
        },
        "id": "mENKyHVetpjU",
        "outputId": "930a330b-df30-461a-ef64-a745b0967dcb"
      },
      "outputs": [
        {
          "output_type": "stream",
          "name": "stdout",
          "text": [
            "Elementów w zbiorze treningowym: 1624, testowym: 733\n",
            "\n",
            "\n",
            "Liczność klas w zbiorze treningowym: \n",
            "ham     1111\n",
            "spam     513\n",
            "Name: label, dtype: int64\n",
            "\n",
            "\n",
            "Liczność klas w zbiorze testowym: \n",
            "ham     517\n",
            "spam    216\n",
            "Name: label, dtype: int64\n"
          ]
        },
        {
          "output_type": "execute_result",
          "data": {
            "text/plain": [
              "  label                                               text  label_num\n",
              "0   ham  Re: What to choose for Core i5 64 bits?>>> If ...          0\n",
              "1  spam  Strictly Private.Gooday, With warm heart my fr...          1\n",
              "2   ham  Re: Flash is open?On Sat, 15 May 2010 00:27:32...          0\n",
              "3   ham  Re: Alsa/Redhat 8 compatabilityMatthias Saou (...          0\n",
              "4  spam  Hey hibody, Save 80% today Lixi Eights followi...          1"
            ],
            "text/html": [
              "\n",
              "  <div id=\"df-14664d42-44e4-4bbc-b252-f4aaf5f5e1fa\" class=\"colab-df-container\">\n",
              "    <div>\n",
              "<style scoped>\n",
              "    .dataframe tbody tr th:only-of-type {\n",
              "        vertical-align: middle;\n",
              "    }\n",
              "\n",
              "    .dataframe tbody tr th {\n",
              "        vertical-align: top;\n",
              "    }\n",
              "\n",
              "    .dataframe thead th {\n",
              "        text-align: right;\n",
              "    }\n",
              "</style>\n",
              "<table border=\"1\" class=\"dataframe\">\n",
              "  <thead>\n",
              "    <tr style=\"text-align: right;\">\n",
              "      <th></th>\n",
              "      <th>label</th>\n",
              "      <th>text</th>\n",
              "      <th>label_num</th>\n",
              "    </tr>\n",
              "  </thead>\n",
              "  <tbody>\n",
              "    <tr>\n",
              "      <th>0</th>\n",
              "      <td>ham</td>\n",
              "      <td>Re: What to choose for Core i5 64 bits?&gt;&gt;&gt; If ...</td>\n",
              "      <td>0</td>\n",
              "    </tr>\n",
              "    <tr>\n",
              "      <th>1</th>\n",
              "      <td>spam</td>\n",
              "      <td>Strictly Private.Gooday, With warm heart my fr...</td>\n",
              "      <td>1</td>\n",
              "    </tr>\n",
              "    <tr>\n",
              "      <th>2</th>\n",
              "      <td>ham</td>\n",
              "      <td>Re: Flash is open?On Sat, 15 May 2010 00:27:32...</td>\n",
              "      <td>0</td>\n",
              "    </tr>\n",
              "    <tr>\n",
              "      <th>3</th>\n",
              "      <td>ham</td>\n",
              "      <td>Re: Alsa/Redhat 8 compatabilityMatthias Saou (...</td>\n",
              "      <td>0</td>\n",
              "    </tr>\n",
              "    <tr>\n",
              "      <th>4</th>\n",
              "      <td>spam</td>\n",
              "      <td>Hey hibody, Save 80% today Lixi Eights followi...</td>\n",
              "      <td>1</td>\n",
              "    </tr>\n",
              "  </tbody>\n",
              "</table>\n",
              "</div>\n",
              "    <div class=\"colab-df-buttons\">\n",
              "\n",
              "  <div class=\"colab-df-container\">\n",
              "    <button class=\"colab-df-convert\" onclick=\"convertToInteractive('df-14664d42-44e4-4bbc-b252-f4aaf5f5e1fa')\"\n",
              "            title=\"Convert this dataframe to an interactive table.\"\n",
              "            style=\"display:none;\">\n",
              "\n",
              "  <svg xmlns=\"http://www.w3.org/2000/svg\" height=\"24px\" viewBox=\"0 -960 960 960\">\n",
              "    <path d=\"M120-120v-720h720v720H120Zm60-500h600v-160H180v160Zm220 220h160v-160H400v160Zm0 220h160v-160H400v160ZM180-400h160v-160H180v160Zm440 0h160v-160H620v160ZM180-180h160v-160H180v160Zm440 0h160v-160H620v160Z\"/>\n",
              "  </svg>\n",
              "    </button>\n",
              "\n",
              "  <style>\n",
              "    .colab-df-container {\n",
              "      display:flex;\n",
              "      gap: 12px;\n",
              "    }\n",
              "\n",
              "    .colab-df-convert {\n",
              "      background-color: #E8F0FE;\n",
              "      border: none;\n",
              "      border-radius: 50%;\n",
              "      cursor: pointer;\n",
              "      display: none;\n",
              "      fill: #1967D2;\n",
              "      height: 32px;\n",
              "      padding: 0 0 0 0;\n",
              "      width: 32px;\n",
              "    }\n",
              "\n",
              "    .colab-df-convert:hover {\n",
              "      background-color: #E2EBFA;\n",
              "      box-shadow: 0px 1px 2px rgba(60, 64, 67, 0.3), 0px 1px 3px 1px rgba(60, 64, 67, 0.15);\n",
              "      fill: #174EA6;\n",
              "    }\n",
              "\n",
              "    .colab-df-buttons div {\n",
              "      margin-bottom: 4px;\n",
              "    }\n",
              "\n",
              "    [theme=dark] .colab-df-convert {\n",
              "      background-color: #3B4455;\n",
              "      fill: #D2E3FC;\n",
              "    }\n",
              "\n",
              "    [theme=dark] .colab-df-convert:hover {\n",
              "      background-color: #434B5C;\n",
              "      box-shadow: 0px 1px 3px 1px rgba(0, 0, 0, 0.15);\n",
              "      filter: drop-shadow(0px 1px 2px rgba(0, 0, 0, 0.3));\n",
              "      fill: #FFFFFF;\n",
              "    }\n",
              "  </style>\n",
              "\n",
              "    <script>\n",
              "      const buttonEl =\n",
              "        document.querySelector('#df-14664d42-44e4-4bbc-b252-f4aaf5f5e1fa button.colab-df-convert');\n",
              "      buttonEl.style.display =\n",
              "        google.colab.kernel.accessAllowed ? 'block' : 'none';\n",
              "\n",
              "      async function convertToInteractive(key) {\n",
              "        const element = document.querySelector('#df-14664d42-44e4-4bbc-b252-f4aaf5f5e1fa');\n",
              "        const dataTable =\n",
              "          await google.colab.kernel.invokeFunction('convertToInteractive',\n",
              "                                                    [key], {});\n",
              "        if (!dataTable) return;\n",
              "\n",
              "        const docLinkHtml = 'Like what you see? Visit the ' +\n",
              "          '<a target=\"_blank\" href=https://colab.research.google.com/notebooks/data_table.ipynb>data table notebook</a>'\n",
              "          + ' to learn more about interactive tables.';\n",
              "        element.innerHTML = '';\n",
              "        dataTable['output_type'] = 'display_data';\n",
              "        await google.colab.output.renderOutput(dataTable, element);\n",
              "        const docLink = document.createElement('div');\n",
              "        docLink.innerHTML = docLinkHtml;\n",
              "        element.appendChild(docLink);\n",
              "      }\n",
              "    </script>\n",
              "  </div>\n",
              "\n",
              "\n",
              "<div id=\"df-1cc7f393-c82d-4daf-9084-19f3c7b5b075\">\n",
              "  <button class=\"colab-df-quickchart\" onclick=\"quickchart('df-1cc7f393-c82d-4daf-9084-19f3c7b5b075')\"\n",
              "            title=\"Suggest charts\"\n",
              "            style=\"display:none;\">\n",
              "\n",
              "<svg xmlns=\"http://www.w3.org/2000/svg\" height=\"24px\"viewBox=\"0 0 24 24\"\n",
              "     width=\"24px\">\n",
              "    <g>\n",
              "        <path d=\"M19 3H5c-1.1 0-2 .9-2 2v14c0 1.1.9 2 2 2h14c1.1 0 2-.9 2-2V5c0-1.1-.9-2-2-2zM9 17H7v-7h2v7zm4 0h-2V7h2v10zm4 0h-2v-4h2v4z\"/>\n",
              "    </g>\n",
              "</svg>\n",
              "  </button>\n",
              "\n",
              "<style>\n",
              "  .colab-df-quickchart {\n",
              "      --bg-color: #E8F0FE;\n",
              "      --fill-color: #1967D2;\n",
              "      --hover-bg-color: #E2EBFA;\n",
              "      --hover-fill-color: #174EA6;\n",
              "      --disabled-fill-color: #AAA;\n",
              "      --disabled-bg-color: #DDD;\n",
              "  }\n",
              "\n",
              "  [theme=dark] .colab-df-quickchart {\n",
              "      --bg-color: #3B4455;\n",
              "      --fill-color: #D2E3FC;\n",
              "      --hover-bg-color: #434B5C;\n",
              "      --hover-fill-color: #FFFFFF;\n",
              "      --disabled-bg-color: #3B4455;\n",
              "      --disabled-fill-color: #666;\n",
              "  }\n",
              "\n",
              "  .colab-df-quickchart {\n",
              "    background-color: var(--bg-color);\n",
              "    border: none;\n",
              "    border-radius: 50%;\n",
              "    cursor: pointer;\n",
              "    display: none;\n",
              "    fill: var(--fill-color);\n",
              "    height: 32px;\n",
              "    padding: 0;\n",
              "    width: 32px;\n",
              "  }\n",
              "\n",
              "  .colab-df-quickchart:hover {\n",
              "    background-color: var(--hover-bg-color);\n",
              "    box-shadow: 0 1px 2px rgba(60, 64, 67, 0.3), 0 1px 3px 1px rgba(60, 64, 67, 0.15);\n",
              "    fill: var(--button-hover-fill-color);\n",
              "  }\n",
              "\n",
              "  .colab-df-quickchart-complete:disabled,\n",
              "  .colab-df-quickchart-complete:disabled:hover {\n",
              "    background-color: var(--disabled-bg-color);\n",
              "    fill: var(--disabled-fill-color);\n",
              "    box-shadow: none;\n",
              "  }\n",
              "\n",
              "  .colab-df-spinner {\n",
              "    border: 2px solid var(--fill-color);\n",
              "    border-color: transparent;\n",
              "    border-bottom-color: var(--fill-color);\n",
              "    animation:\n",
              "      spin 1s steps(1) infinite;\n",
              "  }\n",
              "\n",
              "  @keyframes spin {\n",
              "    0% {\n",
              "      border-color: transparent;\n",
              "      border-bottom-color: var(--fill-color);\n",
              "      border-left-color: var(--fill-color);\n",
              "    }\n",
              "    20% {\n",
              "      border-color: transparent;\n",
              "      border-left-color: var(--fill-color);\n",
              "      border-top-color: var(--fill-color);\n",
              "    }\n",
              "    30% {\n",
              "      border-color: transparent;\n",
              "      border-left-color: var(--fill-color);\n",
              "      border-top-color: var(--fill-color);\n",
              "      border-right-color: var(--fill-color);\n",
              "    }\n",
              "    40% {\n",
              "      border-color: transparent;\n",
              "      border-right-color: var(--fill-color);\n",
              "      border-top-color: var(--fill-color);\n",
              "    }\n",
              "    60% {\n",
              "      border-color: transparent;\n",
              "      border-right-color: var(--fill-color);\n",
              "    }\n",
              "    80% {\n",
              "      border-color: transparent;\n",
              "      border-right-color: var(--fill-color);\n",
              "      border-bottom-color: var(--fill-color);\n",
              "    }\n",
              "    90% {\n",
              "      border-color: transparent;\n",
              "      border-bottom-color: var(--fill-color);\n",
              "    }\n",
              "  }\n",
              "</style>\n",
              "\n",
              "  <script>\n",
              "    async function quickchart(key) {\n",
              "      const quickchartButtonEl =\n",
              "        document.querySelector('#' + key + ' button');\n",
              "      quickchartButtonEl.disabled = true;  // To prevent multiple clicks.\n",
              "      quickchartButtonEl.classList.add('colab-df-spinner');\n",
              "      try {\n",
              "        const charts = await google.colab.kernel.invokeFunction(\n",
              "            'suggestCharts', [key], {});\n",
              "      } catch (error) {\n",
              "        console.error('Error during call to suggestCharts:', error);\n",
              "      }\n",
              "      quickchartButtonEl.classList.remove('colab-df-spinner');\n",
              "      quickchartButtonEl.classList.add('colab-df-quickchart-complete');\n",
              "    }\n",
              "    (() => {\n",
              "      let quickchartButtonEl =\n",
              "        document.querySelector('#df-1cc7f393-c82d-4daf-9084-19f3c7b5b075 button');\n",
              "      quickchartButtonEl.style.display =\n",
              "        google.colab.kernel.accessAllowed ? 'block' : 'none';\n",
              "    })();\n",
              "  </script>\n",
              "</div>\n",
              "    </div>\n",
              "  </div>\n"
            ],
            "application/vnd.google.colaboratory.intrinsic+json": {
              "type": "dataframe",
              "variable_name": "full_dataset",
              "summary": "{\n  \"name\": \"full_dataset\",\n  \"rows\": 2357,\n  \"fields\": [\n    {\n      \"column\": \"label\",\n      \"properties\": {\n        \"dtype\": \"category\",\n        \"num_unique_values\": 2,\n        \"samples\": [\n          \"spam\",\n          \"ham\"\n        ],\n        \"semantic_type\": \"\",\n        \"description\": \"\"\n      }\n    },\n    {\n      \"column\": \"text\",\n      \"properties\": {\n        \"dtype\": \"string\",\n        \"num_unique_values\": 2278,\n        \"samples\": [\n          \"Re: non-ASCII environmentJerome BENOIT writes: > Nevertheless, something bothers me: where non-ASCII environment can be > found ? Furthermore, can such an environment be created on a Debian > box ? The aim is to check the portability of my code. Look at the Hercules System/370, ESA/390 and z/Architecture Emulator. I believe that it can use EBCDIC. -- John Hasler -- To UNSUBSCRIBE, email to debian-user-REQUEST@lists.debian.org with a subject of \\\"unsubscribe\\\". Trouble? Contact listmaster@lists.debian.org Archive: http://lists.debian.org/874ojkecr0.fsf@thumper.dhh.gt.org \",\n          \"Re: [Razor-users] razor unblessed reference Vipul Ved Prakash said: > Are there any suggestions for \\\"fixing\\\" this in razor-agents? razor-agents > could write to syslog by default, but I am not sure if that would be > desirable default behaviour... Hi Vipul, I reckon if the \\\"unwritable log file\\\" error condition could be caught by Razor and handled gracefully (logging to syslog or /dev/null), it'd be a great help. As it stands, if the log file is unwritable, the razor check falls over entirely as the constructor returns undef (unblessed reference = 'die' error in perl). --j. ------------------------------------------------------- This sf.net email is sponsored by:ThinkGeek Welcome to geek heaven. http://thinkgeek.com/sf _______________________________________________ Razor-users mailing list Razor-users@lists.sourceforge.net https://lists.sourceforge.net/lists/listinfo/razor-users \"\n        ],\n        \"semantic_type\": \"\",\n        \"description\": \"\"\n      }\n    },\n    {\n      \"column\": \"label_num\",\n      \"properties\": {\n        \"dtype\": \"number\",\n        \"std\": 0,\n        \"min\": 0,\n        \"max\": 1,\n        \"num_unique_values\": 2,\n        \"samples\": [\n          1,\n          0\n        ],\n        \"semantic_type\": \"\",\n        \"description\": \"\"\n      }\n    }\n  ]\n}"
            }
          },
          "metadata": {},
          "execution_count": 1
        }
      ],
      "source": [
        "import pandas\n",
        "import numpy as np\n",
        "\n",
        "# ---------------- Ładowanie danych i oddzielanie zbioru treningowego od testowego ------\n",
        "\n",
        "try:\n",
        "    full_dataset = pandas.read_csv('spam_emails.csv', encoding='utf-8')      # wczytaj dane z pliku CSV\n",
        "except:\n",
        "    import s3fs\n",
        "    full_dataset = pandas.read_csv(\"https://dwisniewski-put-pjn.s3.eu-north-1.amazonaws.com/spam_emails.csv\")\n",
        "full_dataset['label_num'] = full_dataset.label.map({'ham':0, 'spam':1})  # ponieważ nazwy kategorii zapisane są z użyciem stringów: \"ham\"/\"spam\", wykonujemy mapowanie tych wartości na liczby, co będzie potrzebne do wykonania klasyfikacji.\n",
        "\n",
        "np.random.seed(0)                                       # ustaw seed na 0, aby zapewnić powtarzalność eksperymentu\n",
        "train_indices = np.random.rand(len(full_dataset)) < 0.7 # wylosuj 70% danych, które stworzą zbiór treningowy. train_indices, to wektor o długości liczności wczytanego zbioru danych, w którym każda pozycja (przykład) może przyjąć dwie wartości: 1.0 - wybierz do zbioru treningowego; 0.0 - wybierz do zbioru testowego\n",
        "\n",
        "train = full_dataset[train_indices] # wybierz zbior treningowy (70%)\n",
        "test = full_dataset[~train_indices] # wybierz zbiór testowy (dopełnienie treningowego - 30%)\n",
        "\n",
        "\n",
        "\n",
        "# ---------------- Wyświetlanie statystyk -----------------\n",
        "\n",
        "\n",
        "print(\"Elementów w zbiorze treningowym: {train}, testowym: {test}\".format(\n",
        "    train=len(train), test=len(test)\n",
        "))\n",
        "\n",
        "print(\"\\n\\nLiczność klas w zbiorze treningowym: \")\n",
        "print(train.label.value_counts())  # wyświetl rozkład etykiet w kolumnie \"label\"\n",
        "\n",
        "print(\"\\n\\nLiczność klas w zbiorze testowym: \")\n",
        "print(test.label.value_counts())   # wyświetl rozkład etykiet w kolumnie \"label\"\n",
        "\n",
        "\n",
        "\n",
        "full_dataset.head()                # wyświetl próbkę danych\n"
      ]
    },
    {
      "cell_type": "markdown",
      "metadata": {
        "id": "7TKA-2tctpjV"
      },
      "source": [
        "## Transformacja danych\n",
        "Aby zastosować większość algorytmów uczenia maszynowego - dane wejściowe muszą być reprezentowane jako wektory liczb. Wykorzystajmy zatem narzędzia dostarczone przez Scikit-learn do tego celu. Użyjmy klasy **CountVectorizer()**, aby podzielić poszczególne dokumenty na słowa, a następnie stworzyć reprezentację \"bag of words\"\n",
        "Dla przypomnienia - \"bag of words\" tworzony jest w nastepujący sposób:\n",
        "<ol>\n",
        "<li>Przeglądamy wszystkie dostępne dokumenty i tworzymy listę wszystkich unikalnych słów jakie napotkaliśmy (słownik).</li>\n",
        "<li>Stworzona lista wyznacza nam wektor cech - każda pozycja w takim wektorze oznacza jedno z napotkanych słów.</li>\n",
        "<li>Każdy z dokumentów mapowany jest na wektor cech poprzez zapisanie ile razy każde ze słów dokumentu wystąpiło w nim.</li>\n",
        "</ol>\n",
        "Przykład wektoryzacji znajduje się poniżej:"
      ]
    },
    {
      "cell_type": "code",
      "execution_count": 2,
      "metadata": {
        "collapsed": true,
        "id": "pCjBLirGtpjV"
      },
      "outputs": [],
      "source": [
        "# PRZYKŁAD ------------------------------------------\n",
        "# np. Dla dwóch dokumentów:\n",
        "# Dokument 1: Ala ma kota i ma psa\n",
        "# Dokument 2: Kot ma Alę\n",
        "\n",
        "# Poszczególne kroki wyglądają następująco:\n",
        "# Lista unikalnych słów:                 [Ala, ma, kota, i, psa, Kot, Alę]\n",
        "# Szablon wektora cech:                  [  0,  0,    0, 0,   0,   0,   0] - wektor jest tyluelementowy, ile mamy  unikalnych słów\n",
        "# Osadzenie dokumenu 1 jako wektor cech: [  1,  2,    1, 1,   1,   0,   0] - słowo \"ma\" pojawia się w dok. 2 razy, \"kot\" i \"Alę\" - wcale\n",
        "# Analogicznie dokument 2:               [  0,  1,    0, 0,   0,   1,   1]"
      ]
    },
    {
      "cell_type": "code",
      "execution_count": 3,
      "metadata": {
        "collapsed": true,
        "colab": {
          "base_uri": "https://localhost:8080/"
        },
        "id": "5PWjG_iItpjW",
        "outputId": "e23c1559-ef44-4cf4-bea1-8f8573f79818"
      },
      "outputs": [
        {
          "output_type": "stream",
          "name": "stdout",
          "text": [
            "Rozmiar stworzonej macierzy: (1624, 37325)\n",
            "Liczba dokumentów: 1624\n",
            "Rozmiar wektora bag-of-words 37325\n"
          ]
        }
      ],
      "source": [
        "from sklearn.feature_extraction.text import CountVectorizer\n",
        "vectorizer = CountVectorizer()\n",
        "X_train_counts = vectorizer.fit_transform(train['text']) # stwórz macierz liczbową z danych. W wierszach mamy kolejne dokumenty, w kolumnach kolejne pola wektora cech odpowiadające unikalnym słowom (bag of words)\n",
        "X_test_counts = vectorizer.transform(test['text'])       # analogicznie jak wyżej - dla zbioru testowego.\n",
        "\n",
        "print(\"Rozmiar stworzonej macierzy: {x}\".format(x=X_train_counts.shape)) # wyświetl rozmiar macierzy. Pierwsze pole - liczba dokumentów, drugie - liczba cech (stała dla wszystkich dokumentów)\n",
        "print(\"Liczba dokumentów: {x}\".format(x=X_train_counts.shape[0]))\n",
        "print(\"Rozmiar wektora bag-of-words {x}\".format(x=X_train_counts.shape[1]))\n"
      ]
    },
    {
      "cell_type": "markdown",
      "metadata": {
        "id": "TdSLcoBStpjW"
      },
      "source": [
        "### Uwaga:\n",
        "Na zbiorze treningowym użyto funkcji - fit_transform(), na testowym - transform(). <br/>\n",
        "**Dlaczego?** fit_transform() wykonuje dwie operacje - tworzy i zapisuje listę wszystkich unikalnych słów (słownik) oraz zamienia dokument na wektor o długości takiej jak słownik. transform() natomiast wykorzystuje istniejący już słownik i wykonuje z jego użyciem transformację do wektora.\n",
        "<br/>\n",
        "Ponieważ zbiór treningowy jest zazwyczaj liczniejszy - z reguły znajdziemy w nim więcej różnych słów. Ponadto, wszystkie słowa, które mogą pomóc w klasyfikacji i tak muszą znaleźć się w zbiorze treningowym aby móc się nauczyć ich wykorzystania. Nie nadpisuje się zatem słownika za pomocą zbioru testowego i tworzy się go tylko raz - podczas treningu, wykorzystując go następnie do tworzenia nowych wektorów z nieobserwowanych podczas treningu dokumentów.\n",
        "\n",
        "# Zadanie 1 (1 punkt):\n",
        "Jak się pewnie domyślasz - reprezentacja bag-of-words będzie miała bardzo wiele zer w wygenerowanych macierzach (macierzach, w których w poszczególnych wierszach będziemy mieli poszczególne dokumenty, a w kolumnach wektory słów reprezentacji bag of words). Rozmiar macierzy z poprzedniego listingu pokazuje, że każdy dokument opisany jest wektorem 37325 pozycji, ponieważ tyle różnych słów zostało wykrytych po analizie wszystkich dokumentów treningowych. Większość dokumentów analizowanych osobbno zawierać będzie pewnie co najwyżej kilkadziesiąt/kilkaset różnych słów.\n",
        "\n",
        "***Zadanie: Napisz fragment kodu, który zliczy:***\n",
        "<ol>\n",
        "    <li><strong>jaki procent macierzy X_train_counts ma elementy o wartości różnej od zera</strong></li>\n",
        "    <li><strong>ile tokenów (łącznie, nie tylko unikalne) występuje w macierzy X_train_counts?</strong></li>\n",
        "</ol>\n",
        "Wskazówka - ponieważ zer w tej macierzy jest istotnie dużo - dane po transformacji CountVectorizerem trzymane są w specjalnym formacie, w którym zapisuje się tylko elementy mające wartości różne od zera, w tzw. macierzy rzadkiej (sparse matrix). Aby przeiterować po takiej macierzy, można wykorzystać następujące fragmenty kodu:\n",
        "\n",
        "<strong>cx = X_train_counts.tocoo()</strong> - transformuj macierz do reprezentacji koordynatowej (patrz niżej) <br/>\n",
        "<strong>for doc_id, word_id, count in zip(cx.row, cx.col, cx.data):</strong> - pozwala ona na iterowanie po wszystkich niezerowych elementach, w każdym kroku otrzymując 3 zmienne - numer wiersza (numer dokumentu), numer kolumny (identyfikator słowa ze słownika) oraz licznik mówiący ile razy dane słowo wystąpiło w danym dokumencie. <span style=\"color: #ff0000\">(Do wykonania zadania musisz zaktualizować linijki 3, 7 i 8)</span>"
      ]
    },
    {
      "cell_type": "code",
      "execution_count": 4,
      "metadata": {
        "collapsed": true,
        "id": "qiBweGC8tpjW",
        "colab": {
          "base_uri": "https://localhost:8080/"
        },
        "outputId": "de6ef760-9455-462d-f078-88a14b53c61a"
      },
      "outputs": [
        {
          "output_type": "stream",
          "name": "stdout",
          "text": [
            "60615800\n",
            "W datasecie znajduje się: 435292 tokenów. Macierz posiada 0.394% elementów niezerowych\n"
          ]
        }
      ],
      "source": [
        "count_tokens = 0   # tu zapisz liczbę wszystkich tokenów w macierzy\n",
        "count_nonzero = 0  # tu zapisz ilość elementów niezerowych w macierzy\n",
        "count_all = X_train_counts.shape[0]  * X_train_counts.shape[1]  # tu zapisz ilość komórek w macierzy (ilość wierszy * ilość kolumn, rozważ użycie pola 'shape' na macierzy X_train_counts)\n",
        "print(count_all)\n",
        "cx = X_train_counts.tocoo()\n",
        "for doc_id, word_id, count in zip(cx.row, cx.col, cx.data):    #iteracja po elementach niezerowych\n",
        "    count_tokens += count # + liczba wystapien slowa\n",
        "    count_nonzero += 1\n",
        "\n",
        "print(\"W datasecie znajduje się: {tokens} tokenów. Macierz posiada {nonzero_percent}% elementów niezerowych\".format(\n",
        "    tokens=count_tokens,\n",
        "    nonzero_percent = round(100.0*count_nonzero/count_all, 3)\n",
        "))"
      ]
    },
    {
      "cell_type": "markdown",
      "metadata": {
        "id": "21UVxkmZtpjW"
      },
      "source": [
        "<div class=\"alert alert-block alert-success\">\n",
        "    <strong>Oczekiwany rezultat:</strong> <br/>\n",
        "Mniej niż 1% elementów niezerowych (!) <br/>\n",
        "Ponad 400000 tokenów\n",
        "</div>\n",
        "\n",
        "# Zadanie 2 (1 punkt) - słowa charakteryzujące klasy\n",
        "\n",
        "Wykorzystajmy macierz X_train_counts wykorzystywaną w poprzednim zadaniu, a także etykiety kategorii, aby stworzyć listy najczęściej występuących słów w danych kategoriach. <br/><br/>\n",
        "Aby ułatwić zadanie, utworzono większość funkcji **get_top_occuring_words()** tworzącej taki ranking<br/>\n",
        "**Zadanie 2a (0.5 punktu)**: twoim zadaniem jest zaktualizowanie wartości pola: **category_word_counts[category][word]**, tak, aby poprawnie zliczyć ile razy dane słowo wystąpiło w kategorii. <span style=\"color: #ff0000\">(zaktualizuj linijkę 20)</span>\n",
        "<br/>\n",
        "Czy najczęstsze słowa pozwalają rozdzielić kategorie SPAM od HAM?  \n",
        "**Jeśli najczęstsze słowa z kategori SPAM i HAM byłyby różne to tak. W tym przypadku listy są bardzo podobne więc jest to raczej niemożliwe.**"
      ]
    },
    {
      "cell_type": "code",
      "execution_count": 5,
      "metadata": {
        "collapsed": true,
        "id": "0IXZ22GOtpjX",
        "colab": {
          "base_uri": "https://localhost:8080/"
        },
        "outputId": "41fb8b53-af97-47e3-b4ed-70b39a443675"
      },
      "outputs": [
        {
          "output_type": "stream",
          "name": "stdout",
          "text": [
            "ham: ['the', 'to', 'of', 'and', 'is', 'in', 'it', 'that', 'for', 'you', 'on', 'with']\n",
            "spam: ['the', 'of', 'to', 'and', 'in', 'you', 'nbsp', 'for', 'is', 'your', 'this', 'as']\n"
          ]
        }
      ],
      "source": [
        "import operator\n",
        "\n",
        "def get_top_occuring_words(X_train_counts, how_many_words, vectorizer, train):\n",
        "    id_to_word = {v: k for k, v in vectorizer.vocabulary_.items()} # stwórz mapowanie pozycji wektora bag-of-words na konkretne słowa\n",
        "    cx = X_train_counts.tocoo()\n",
        "\n",
        "    category_word_counts = dict()      # słownik, w którym przeprowadzimy zliczanie\n",
        "\n",
        "    for doc_id, word_id, count in zip(cx.row, cx.col, cx.data):\n",
        "        category = train.iloc[doc_id]['label']  # w category znajduje się idetyfikator kategorii dla aktualnego dokumentu, zapisujemy go\n",
        "        word = id_to_word[word_id]              # w word - aktualne słowo z dokumentu\n",
        "                                                # mamy też liczność wystąpienia danego słowa w dokumencie (gdzie? :) )\n",
        "\n",
        "        if category not in category_word_counts.keys(): # stwórzmy słownik z kategoriami jako kluczami\n",
        "            category_word_counts[category] = dict()     # jeśli widzimy nową kategorię - dodajemy do słownika\n",
        "\n",
        "        if word not in category_word_counts[category]: # w ramach każdej kategorii będziemy zliaczać słowa\n",
        "            category_word_counts[category][word] = 0.0 # jeśli aktualne słowo jeszce nie zotało uwzględnione w kategorii - zainicjujmy jego licznik liczbą 0\n",
        "\n",
        "        category_word_counts[category][word] += count\n",
        "\n",
        "    for category_name in category_word_counts.keys(): # wyświetl nazwy kategorii i n najczęściej występujących w nich słów\n",
        "        sorted_cat = sorted(category_word_counts[category_name].items(), key=operator.itemgetter(1), reverse=True) # posortowany dict() słowo -> liczność, wg liczności, malejąco\n",
        "        print(\"{cat}: {top}\".format(cat=category_name, top=[word for word, count in sorted_cat[:how_many_words]])) # wyświetl nazwę kategorii i top n słów\n",
        "\n",
        "\n",
        "get_top_occuring_words(X_train_counts, 12, vectorizer, train) # wywołanie funkcji"
      ]
    },
    {
      "cell_type": "markdown",
      "metadata": {
        "id": "dFizCCvBtpjX"
      },
      "source": [
        "### Wektoryzacja Tf-Idf\n",
        "\n",
        "Po wykonaniu zadania 2a widzimy, że najczęściej występujące słowa w każdej kategorii mają niewielką użytezczność (pasują do każdej kategorii). Aby sprawić, żeby na czele rankingu znalazły się słowa charakterystyczne dla danej klasy, możemy użyć metody Tf-idf. <br/>\n",
        "**Zadanie 2b:\n",
        "Nadpisz wartości X_train_counts oraz X_test_counts wykorzystując w tym celu TfidfVectorizer** (http://scikit-learn.org/stable/modules/generated/sklearn.feature_extraction.text.TfidfVectorizer.html) zamiast CountVectorizer, ustaw parametr max_df na 0.4 (tzn. ignoruj słowa, które występują w więcej niż 40% dokumentów). Następnie wykonaj stworzoną w zadaniu 2 funkcję get_top_occuring_words(), aby sprawdzić, czy ranking najważniejszych słów się zmienił. Czy zmieniony zestaw słów lepiej reprezentuje kategorie? <span style=\"color: #ff0000\">(zaktualizuj linie 3, 4, 5)</span>\n",
        "\n",
        "**W tym przypadku najczęściej występujące słowa dla kategorii SPAM i HAM różnią się co może pomóc w rozróżnieniu tych kategorii.**"
      ]
    },
    {
      "cell_type": "code",
      "execution_count": 6,
      "metadata": {
        "collapsed": true,
        "id": "nH5yZVV-tpjX",
        "colab": {
          "base_uri": "https://localhost:8080/"
        },
        "outputId": "4599f0f9-b5ec-4b61-d3d1-4579b295956a"
      },
      "outputs": [
        {
          "output_type": "stream",
          "name": "stdout",
          "text": [
            "ham: ['debian', 'org', 'lists', '20', 'unsubscribe', 'linux', 'net', 'wrote', 'list', 'my', 'can', 'www']\n",
            "spam: ['nbsp', 'our', '20', 'click', 'here', 'spam', '2009', 'content', 'hibody', 'we', 'free', 'all']\n"
          ]
        }
      ],
      "source": [
        "from sklearn.feature_extraction.text import TfidfVectorizer\n",
        "\n",
        "vectorizer = TfidfVectorizer(max_df=0.4)\n",
        "X_train_counts = vectorizer.fit_transform(train['text']) # stwórz macierz wektorów. W wierszach mamy kolejne dokumenty, w kolumnach kolejne pola wektora cech odpowiadające unikalnym słowom\n",
        "X_test_counts = vectorizer.transform(test['text']) # analogicznie dla zbioru testowego.\n",
        "\n",
        "get_top_occuring_words(X_train_counts, 12, vectorizer, train) # wywołanie funkcji"
      ]
    },
    {
      "cell_type": "markdown",
      "metadata": {
        "id": "ofIB7hUDtpjX"
      },
      "source": [
        "# Zadanie 3 - Stemming i lematyzacja (1 punkt)\n",
        "Często istotne słowa występują w wielu odmianach (szczególnie w językach fleksyjnych, takich jak nasz), np: university - universities ; pay - paid - paying - pays . Wielość odmian słów ma swoje przełożenie na rozmiar słownika.\n",
        "<br/><br/>\n",
        "W niektórych warunkach, w szczególności:\n",
        "<ul>\n",
        "<li>Kiedy mamy ograniczoną pamięć</li>\n",
        "<li>Kiedy ważny jest dla nas czas działania algorytmu</li>\n",
        "<li>Kiedy istnieje ryzyko przeuczenia</li>\n",
        "</ul>\n",
        "warto rozważyć znormalizowanie słów, tak, aby zmniejszyć rozmiar słownika, a co za tym idzie wymagania pamięciowe (a co za tym idzie - czas treningu/klasyfikacji). Ograniczenie rozmiaru słownika może też zapobiec przeuczeniu. Normalizację możemy wykonać np. poprzez zastosowanie stemmingu lub lematyzacji dla poszczególnych wyrazów.\n",
        "<br/>\n",
        "<strong>Zadanie 3a (0.5 punktu)</strong>: Z użyciem biblioteki NLTK wykonaj zarówno lematyzację (używając WordNetLemmatizer) jak i stemming (używając PorterStemmer) tekstu zawartego w sample_text. Uwaga - lematyzator opcjonalnie wymaga pos-tagu dla tokenu. Przekaż do funkcji lematyzującej zmienną current_word_postag jako drugi argument. <span style=\"color: #ff0000\">(zaktualizuj linie 20, 21, 34, 35)</span>\n",
        "\n",
        "<strong>Zadanie 3b (0.5 punktu)</strong>: O ile zmniejszyła się liczba unikalnych słów po zastosowaniu lematyzacji? Odpowiedź zawrzyj w komentarzu. <span style=\"color: #ff0000\">(linijki 43:45)</span>"
      ]
    },
    {
      "cell_type": "code",
      "source": [
        "import nltk\n",
        "nltk.download('punkt')\n",
        "nltk.download('averaged_perceptron_tagger')\n",
        "nltk.download('wordnet')"
      ],
      "metadata": {
        "id": "muCqqbjWMHzj",
        "outputId": "408eda9d-0061-4b4a-d84a-3d60e39a7c86",
        "colab": {
          "base_uri": "https://localhost:8080/"
        }
      },
      "execution_count": 7,
      "outputs": [
        {
          "output_type": "stream",
          "name": "stderr",
          "text": [
            "[nltk_data] Downloading package punkt to /root/nltk_data...\n",
            "[nltk_data]   Unzipping tokenizers/punkt.zip.\n",
            "[nltk_data] Downloading package averaged_perceptron_tagger to\n",
            "[nltk_data]     /root/nltk_data...\n",
            "[nltk_data]   Unzipping taggers/averaged_perceptron_tagger.zip.\n",
            "[nltk_data] Downloading package wordnet to /root/nltk_data...\n"
          ]
        },
        {
          "output_type": "execute_result",
          "data": {
            "text/plain": [
              "True"
            ]
          },
          "metadata": {},
          "execution_count": 7
        }
      ]
    },
    {
      "cell_type": "code",
      "execution_count": 8,
      "metadata": {
        "collapsed": true,
        "id": "MVdt_SdPtpjX",
        "colab": {
          "base_uri": "https://localhost:8080/"
        },
        "outputId": "739bab5c-f9c3-4a76-a9df-3e7b783e2a93"
      },
      "outputs": [
        {
          "output_type": "stream",
          "name": "stdout",
          "text": [
            "unikalne tokeny:  19\n",
            "wystemowane 19\n",
            "zlematyzowane:  17\n",
            "Bazowy tekst:        There are some cheaper alternatives for buying the red trousers. There is a discount, it is so cheap!\n",
            "Wystemowany tekst:   there are some cheaper altern for buy the red trouser . there is a discount , it is so cheap !\n",
            "Zlematyzowany tekst: There be some cheap alternative for buy the red trouser . There be a discount , it be so cheap !\n"
          ]
        }
      ],
      "source": [
        "from nltk.stem.porter import PorterStemmer\n",
        "from nltk.tokenize import sent_tokenize, word_tokenize\n",
        "from nltk.stem import WordNetLemmatizer\n",
        "from nltk.corpus import wordnet\n",
        "import nltk\n",
        "\n",
        "def get_wordnet_pos(treebank_tag):     # lematyzator wymaga, aby dla danego słowa podać mu, czy jest to czasownik, rzeczownik czy inny POS-tag. Funkcja jest adapterem tagów nadanych przez funkcję pos_tag do tagów wymaganych przez lematyzator\n",
        "    if treebank_tag.startswith('J'):\n",
        "        return wordnet.ADJ\n",
        "    elif treebank_tag.startswith('V'):\n",
        "        return wordnet.VERB\n",
        "    elif treebank_tag.startswith('N'):\n",
        "        return wordnet.NOUN\n",
        "    elif treebank_tag.startswith('R'):\n",
        "        return wordnet.ADV\n",
        "    else:\n",
        "        return wordnet.NOUN\n",
        "\n",
        "wordnet_lemmatizer = WordNetLemmatizer()\n",
        "porter_stemmer = PorterStemmer()\n",
        "\n",
        "sample_text = \"There are some cheaper alternatives for buying the red trousers. There is a discount, it is so cheap!\"\n",
        "\n",
        "lemmatized = [] # tutaj będziemy dopisywać zlematyzowane słowa\n",
        "stemmed = []    # tutaj będziemy dopisywać wystemowane słowa\n",
        "\n",
        "tokenized = word_tokenize(sample_text)\n",
        "print(\"unikalne tokeny: \", len(set(tokenized)))\n",
        "pos_tokens = nltk.pos_tag(tokenized)       # nadajemy pos-tagi (rzeczownik, czasownik przymiotnik...) każdemu słowu\n",
        "\n",
        "\n",
        "\n",
        "for i in range(len(tokenized)): # dla każdego słowa\n",
        "    current_word_postag = get_wordnet_pos(pos_tokens[i][1]) # pobieramy pos-tag słowa\n",
        "    lemmatized_token = wordnet_lemmatizer.lemmatize(tokenized[i], pos=current_word_postag)\n",
        "    stemmed_token = porter_stemmer.stem(tokenized[i])\n",
        "\n",
        "    lemmatized.append(lemmatized_token)\n",
        "    stemmed.append(stemmed_token)\n",
        "print(\"wystemowane\", len(set(stemmed)))\n",
        "print(\"zlematyzowane: \", len(set(lemmatized)))\n",
        "\n",
        "print(\"Bazowy tekst:        {t}\".format(t=sample_text))\n",
        "print(\"Wystemowany tekst:   {t}\".format(t=\" \".join(stemmed)))\n",
        "print(\"Zlematyzowany tekst: {t}\".format(t=\" \".join(lemmatized)))\n",
        "\n",
        "# Ile uniklanych tokenów znajduje się w tekście bazowym?: 19\n",
        "# Ile unikalnych tokenów znajduje się w tekście wystemowanym?: 19\n",
        "# Ile unikalnych tokenów w tekście zlematyzowanym?: 17\n",
        "# Różnica ilości unikalnych tokenów między tekstem bazowym a wystemowanym i bazowym a zlematyzowanym: 0 i 2"
      ]
    },
    {
      "cell_type": "markdown",
      "metadata": {
        "id": "bKyc7IsytpjY"
      },
      "source": [
        "---\n",
        "# Zadanie 4 (1 punkt) - klasyfikacja i interpretacja wyników\n",
        "Mając już dobrą reprezentację danych i wiedząc jak działa normalizacja - możemy klasyfikować! <br/>\n",
        "Istnieje wiele algorytmów, które dobrze radzą sobie z klasyfikacją tekstu, kilka przykładów to:\n",
        "<ul>\n",
        "<li>Naiwny klasyfikator Bayesa</li>\n",
        "<li>Maszyna wektorów nośnych - SVM</li>\n",
        "<li>Sieci neuronowe</li>\n",
        "</ul>\n",
        "O sieciach neuronowych więcej powiemy na jednych z przyszłych laboratoriów. <br/>\n",
        "<strong>Zadanie 4a (0.5 punktu)</strong> Wykorzystując przetworzoną postać danych: X_train_counts, X_test_counts z poprzednich zadań oraz dokumentację sklearn, zaimplementuj klasyfikację z użyciem naiwnego klasyfikatora Bayesa (MultinomialNB). <span style=\"color: #ff0000\">(zaktualizuj linie 7, 9, 12)</span>"
      ]
    },
    {
      "cell_type": "code",
      "execution_count": 10,
      "metadata": {
        "collapsed": true,
        "id": "3qqgOb0ntpjY",
        "colab": {
          "base_uri": "https://localhost:8080/"
        },
        "outputId": "ddd7fa1c-ab3e-49f2-9f35-cc7cb0f9a762"
      },
      "outputs": [
        {
          "output_type": "stream",
          "name": "stdout",
          "text": [
            "Ile elementów testowych udało się poprawnie zaklasyfikować?\n",
            "0.8840381991814461\n",
            "Szczegółowy raport (per klasa)\n",
            "              precision    recall  f1-score   support\n",
            "\n",
            "         ham       0.86      1.00      0.92       517\n",
            "        spam       1.00      0.61      0.76       216\n",
            "\n",
            "    accuracy                           0.88       733\n",
            "   macro avg       0.93      0.80      0.84       733\n",
            "weighted avg       0.90      0.88      0.87       733\n",
            "\n"
          ]
        }
      ],
      "source": [
        "from sklearn.naive_bayes import MultinomialNB\n",
        "from sklearn.metrics import classification_report, accuracy_score\n",
        "\n",
        "def labels_as_strings(vector_of_indices): # funkcja pomocnicza zamieniająca identyfikatory numeryczne na tekstowe\n",
        "    return ['ham' if ind == 0 else 'spam' for ind in vector_of_indices]\n",
        "\n",
        "nb = MultinomialNB()\n",
        "\n",
        "nb.fit(X_train_counts, train[\"label_num\"])\n",
        "predicted = nb.predict(X_test_counts)\n",
        "\n",
        "print(\"Ile elementów testowych udało się poprawnie zaklasyfikować?\")\n",
        "accuracy = accuracy_score(test['label_num'], predicted)\n",
        "print(accuracy)\n",
        "print(\"Szczegółowy raport (per klasa)\")\n",
        "print(classification_report(labels_as_strings(test['label_num']), labels_as_strings(nb.predict(X_test_counts)))) # testowanie klasyfikatora - szerokie podsumowanie uwzględniające miary: precision, recall, f1\n"
      ]
    },
    {
      "cell_type": "markdown",
      "metadata": {
        "id": "sM0Bw1AatpjY"
      },
      "source": [
        "**Zadanie 4b (0.5 punktu)\n",
        "Po analizie szczegółowego raportu z zadania 4a - odpowiedz na poniższe pytania i zapisz odpowiedzi w komentarzu:**\n",
        "<ol>\n",
        "<li>Która miara mówi nam o tym, jak wiele spośród elementów uznanych za spam rzeczywiście jest spamem?  </li>\n",
        "<li>Która miara mówi nam o tym, jak wiele spośród wszystkich elementów rzeczywiście będących spamem zostało wykrytych jako spam?</li>\n",
        "\n",
        "<li>Która kategoria została w ogólnym rozrachunku lepiej rozpoznana przez klasyfikator, jeśli zależy nam bardziej na tym, żeby klasyfikator, jeśli mówi, że coś należy do danej klasy, raczej się w tym nie mylił, niż żeby wykrył wszystkie elementy klasy?</li>\n",
        "\n",
        "</ol>"
      ]
    },
    {
      "cell_type": "code",
      "execution_count": null,
      "metadata": {
        "collapsed": true,
        "id": "8RTQ6g6StpjY"
      },
      "outputs": [],
      "source": [
        "# odp zad 4.1: precision\n",
        "# odp zad 4.2: recall\n",
        "# odp zad 4.3: spam"
      ]
    },
    {
      "cell_type": "markdown",
      "metadata": {
        "id": "DcT_awK2tpjY"
      },
      "source": [
        "Sklearn jest bardzo wdzięcznym narzędziem, w którym proces klasyfikacji możemy wykonać w zaledwie kilku linijkach. Bardzo przydatną klasą jest klasa Pipeline, która definiuje sekwencję kroków, które wykonujemy wywołując metodę fit().\n",
        "W naszym przypadku mamy dwa kroki:\n",
        "<ol>\n",
        "    <li>Wektoryzacja - zamienia dane zapisane w postaci tekstowej na macierz z wektorami bag-of-words.</li>\n",
        "    <li>Klasyfikacja - wytrenowanie klasyfikatora.</li>\n",
        "</ol>\n",
        "W zdefiniowanym obiekcie typu pipeline, i+1 element pipeline'u na wejściu dostaje dane z wyjścia i-tego elementu (Zatem nasz klasyfikator otrzyma dane przetworzone przez TfidfVectorizer). <br/>\n",
        "Metoda fit na wejściu przyjmuje listę dokumentów w formie tekstowej, oraz oczekiwane etykiety w formie liczbowej.\n",
        "<br/>\n",
        "Analogicznie w procesie klasyfikowania nowych tekstów z użyciem istniejącego modelu - metoda predict() wykona sekwencję kroków: wektoryzacja + klasyfikacja dla zadanej listy surowych tekstów). <br/>\n",
        "Zapoznaj się z poniższym kodem i uruchom go."
      ]
    },
    {
      "cell_type": "code",
      "execution_count": 11,
      "metadata": {
        "collapsed": true,
        "id": "TLqmeZmltpjY",
        "colab": {
          "base_uri": "https://localhost:8080/"
        },
        "outputId": "d5d408ad-43a3-4e7d-fb4e-83e34493f2a5"
      },
      "outputs": [
        {
          "output_type": "stream",
          "name": "stdout",
          "text": [
            "Tekst NEED TO FIND SOMETHING? ::FREE MORTGAGE QUOTE:: To be removed from this list, click here. , zaklasyfikowany został jako: SPAM\n",
            "W zbiorze testowym 88.4038199181446% przypadków zostało poprawnie zaklasyfikowanych!\n"
          ]
        }
      ],
      "source": [
        "from sklearn.pipeline import Pipeline\n",
        "from sklearn.naive_bayes import MultinomialNB\n",
        "from sklearn.feature_extraction.text import TfidfVectorizer\n",
        "import pandas\n",
        "import numpy as np\n",
        "\n",
        "# ------------------- WCZYTANIE DANYCH -----------\n",
        "\n",
        "full_dataset = pandas.read_csv('spam_emails.csv', encoding='utf-8')      # wczytaj dane z pliku CSV\n",
        "full_dataset['label_num'] = full_dataset.label.map({'ham':0, 'spam':1})  # ponieważ nazwy kategorii zapisane są z użyciem stringów: \"ham\"/\"spam\", wykonujemy mapowanie tych wartości na liczby, aby móc wykonać klasyfikację.\n",
        "\n",
        "np.random.seed(0)                                       # ustaw seed na 0, aby zapewnić powtarzalność eksperymentu\n",
        "train_indices = np.random.rand(len(full_dataset)) < 0.7 # wylosuj 70% wierszy, które znajdą się w zbiorze treningowym\n",
        "\n",
        "train = full_dataset[train_indices] # wybierz zbior treningowy (70%)\n",
        "test = full_dataset[~train_indices] # wybierz zbiór testowy (dopełnienie treningowego - 30%)\n",
        "\n",
        "\n",
        "# ------------------- STWORZENIE PIPELINE'U -----------\n",
        "\n",
        "pipeline = Pipeline([             # stwórzmy pipeline surowy tekst -> TFIDF vectorizer -> klasyfikator\n",
        "    ('tfidf', TfidfVectorizer(max_df=0.4)),\n",
        "    ('clf', MultinomialNB()),\n",
        "])\n",
        "\n",
        "# ------------------- TRANSFORMACJA I UCZENIE -----------\n",
        "\n",
        "pipeline.fit(train['text'], train['label_num']) # zwektoryzujmy dane i wytrenujmy klasyfikator na zbiorze treningowym\n",
        "\n",
        "# ------------------- KLASYFIKACJA PRZYKŁADOWEGO TEKSTU -----------\n",
        "\n",
        "text_to_predict = \"NEED TO FIND SOMETHING? ::FREE MORTGAGE QUOTE:: To be removed from this list, click here. \"\n",
        "predicted = pipeline.predict([text_to_predict])\n",
        "if predicted == 1:\n",
        "    detected = 'SPAM'\n",
        "else:\n",
        "    detected = 'HAM'\n",
        "print(\"Tekst {t}, zaklasyfikowany został jako: {d}\".format(t=text_to_predict, d=detected))\n",
        "\n",
        "# ------------------- OCENA KLASYFIKATORA -----------\n",
        "accuracy = pipeline.score(test['text'], test['label_num'])\n",
        "print(\"W zbiorze testowym {n}% przypadków zostało poprawnie zaklasyfikowanych!\".format(\n",
        "    n=100.*accuracy))"
      ]
    },
    {
      "cell_type": "markdown",
      "metadata": {
        "collapsed": true,
        "id": "L9IynORCtpjY"
      },
      "source": [
        "# Zadanie 5 (1 punkt): dobór parametrów klasyfikacji\n",
        "Poniżej znajduje się kod tworzący pipeline składający się z dwóch elementów: TfidfVectorizera oraz klasyfikatora naiwnego Bayesa - MultinomialNB. Wektoryzator tworzy model bag-of-words, który uwzględnia jedynie 1000 najważniejszych słów w słowniku. W celu zastosowania stemmingu oraz lematyzatora w treningu i predykcji stoworzona została klasa TheTokenizer, która poza podziałem tekstu na słowa wykonuje również zadania normalizacji wg. ustalonych flag: **use_stemming, use_lemmatization, use_stopword_removal**. <br/>\n",
        "<strong>Zadanie 5a (0.5 punktu)</strong>: <br/>\n",
        "Zweryfikuj jak zmiana wartości flag **use_stemming, use_lemmatization, use_stopword_removal**, a co za tym idzie wykorzystanie lamatyzacji, stemmingu i usuwania najczęstszych słow wpływa na miary precision, recall i f1 stworzonego klasyfikatora. Wyniki zapisz w komentarzu. <span style=\"color: #ff0000\">(modyfikuj linie 16, 17, 18, komentarz - w kolejnej komórce)</span><br/>\n",
        "<strong> Zadanie 5b (0.5 punktu)</strong>: <br/>\n",
        "Ustaw flagi **use_stemming, use_lemmatization, use_stopword_removal** z linii 16,17 i 18 na False, i porównaj wartości precision recall i f1 dla klasyfikatora, ktory wykorzystuje CountVectorizer i takiego, który wykorzystuje TfidfVectorizer. Pozostaw parametr max_features=1000 w obu przypadkach. Który wektoryzator jest lepszy? <span style=\"color: #ff0000\">(modyfikuj linię 84)</span>\n",
        "</ol>"
      ]
    },
    {
      "cell_type": "code",
      "source": [
        "nltk.download('stopwords')"
      ],
      "metadata": {
        "colab": {
          "base_uri": "https://localhost:8080/"
        },
        "id": "2IeGWWzcIukG",
        "outputId": "a4164f53-18d2-495b-d8a7-63e0a1b258e4"
      },
      "execution_count": 13,
      "outputs": [
        {
          "output_type": "stream",
          "name": "stderr",
          "text": [
            "[nltk_data] Downloading package stopwords to /root/nltk_data...\n",
            "[nltk_data]   Unzipping corpora/stopwords.zip.\n"
          ]
        },
        {
          "output_type": "execute_result",
          "data": {
            "text/plain": [
              "True"
            ]
          },
          "metadata": {},
          "execution_count": 13
        }
      ]
    },
    {
      "cell_type": "code",
      "execution_count": 21,
      "metadata": {
        "collapsed": true,
        "scrolled": true,
        "id": "cg9f7HnUtpjZ",
        "colab": {
          "base_uri": "https://localhost:8080/"
        },
        "outputId": "db98725a-1424-449e-b484-ee285c25f623"
      },
      "outputs": [
        {
          "output_type": "stream",
          "name": "stdout",
          "text": [
            "Pobieranie danych\n",
            "Tworzenie pipeline'u\n",
            "Uczenie pipeline'u\n"
          ]
        },
        {
          "output_type": "stream",
          "name": "stderr",
          "text": [
            "/usr/local/lib/python3.10/dist-packages/sklearn/feature_extraction/text.py:528: UserWarning: The parameter 'token_pattern' will not be used since 'tokenizer' is not None'\n",
            "  warnings.warn(\n"
          ]
        },
        {
          "output_type": "stream",
          "name": "stdout",
          "text": [
            "Ile różnych słów tworzy wektor bag of words (jaki jest rozmiar słownika?)?\n",
            "W słowniku znajduje się 1000 różnych słów\n",
            "Ocena klasyfikatora\n",
            "                        precision    recall  f1-score   support\n",
            "\n",
            "         comp.graphics       0.67      0.65      0.66       389\n",
            " comp.sys.mac.hardware       0.62      0.66      0.64       385\n",
            "          misc.forsale       0.72      0.86      0.78       390\n",
            "       rec.motorcycles       0.60      0.81      0.69       398\n",
            "       sci.electronics       0.61      0.58      0.60       393\n",
            "               sci.med       0.77      0.53      0.63       396\n",
            "             sci.space       0.77      0.69      0.73       394\n",
            "soc.religion.christian       0.88      0.83      0.86       398\n",
            "    talk.politics.guns       0.58      0.48      0.52       364\n",
            "    talk.politics.misc       0.48      0.54      0.51       310\n",
            "\n",
            "              accuracy                           0.67      3817\n",
            "             macro avg       0.67      0.66      0.66      3817\n",
            "          weighted avg       0.68      0.67      0.67      3817\n",
            "\n"
          ]
        }
      ],
      "source": [
        "# wczytywanie danych\n",
        "from sklearn.datasets import fetch_20newsgroups # zbiór danych zawarty w Sklearn, który zawiera dane z 20 grup newsowych\n",
        "from sklearn.pipeline import Pipeline\n",
        "from sklearn.svm import SVC\n",
        "from sklearn.naive_bayes import MultinomialNB\n",
        "from sklearn.feature_extraction.text import TfidfVectorizer, CountVectorizer\n",
        "from sklearn.metrics import classification_report\n",
        "from nltk import word_tokenize, pos_tag\n",
        "from nltk.stem import WordNetLemmatizer\n",
        "from nltk.stem.porter import *\n",
        "from nltk.corpus import stopwords\n",
        "\n",
        "\n",
        "class TheTokenizer(object):              # Aby zastosować lematyzację/stemming z NLTK, musimy napisać własny tokenizator, który podzieli tekst na słowa i przekształci je na stemy/lematy.\n",
        "    def __init__(self):\n",
        "        self.use_stemming = False         #czy stemować?\n",
        "        self.use_lemmatization = False    #czy lematyzować?\n",
        "        self.use_stopword_removal = False  #czy usunąć słowa częste jak the, and, of itp.\n",
        "        # usuwanie słów częstych wpływa na polepszenie miar, stemming i lematyzacja w połączeniu z usuwaniem częstych słów równierz wpływają na polepszenie miar z tym że stemming wpływa lepiej na precyzje a lematyzacja na recall\n",
        "        self.wnl = WordNetLemmatizer()   # Utwórz lematyzator oparty na wordnet\n",
        "        self.stemmer = PorterStemmer()   # Utwórz stemmer Portera\n",
        "        self.stopwords = set(stopwords.words('english')) # załaduj listę ~100 najczęstszych słów (the, and, of, ...)\n",
        "\n",
        "    def __call__(self, doc):\n",
        "        if not self.use_stemming and not self.use_lemmatization: # tokenizuj i ew. lematyzuj/stemuj/usuń stopwords w zależności od ustawionych flag\n",
        "            return [t for t in word_tokenize(doc) if self.allow(t)]\n",
        "        elif self.use_stemming and not self.use_lemmatization:\n",
        "            return [self.stem_token(t) for t in word_tokenize(doc) if self.allow(t)]\n",
        "        elif self.use_lemmatization and not self.use_stemming:\n",
        "            return [self.lemmatize_token(t, pos) for t, pos in pos_tag(word_tokenize(doc)) if self.allow(t)]\n",
        "\n",
        "    def stem_token(self, t):\n",
        "        return self.stemmer.stem(t)\n",
        "\n",
        "    def lemmatize_token(self, t, postag):\n",
        "        return self.wnl.lemmatize(t, self.get_wordnet_pos(postag))\n",
        "\n",
        "    def allow(self, t):\n",
        "        if not self.use_stopword_removal:\n",
        "            return True\n",
        "\n",
        "        if t in self.stopwords:\n",
        "            return False\n",
        "        else:\n",
        "            return True\n",
        "\n",
        "    def get_wordnet_pos(self, treebank_tag):\n",
        "        if treebank_tag.startswith('J'):\n",
        "            return wordnet.ADJ\n",
        "        elif treebank_tag.startswith('V'):\n",
        "            return wordnet.VERB\n",
        "        elif treebank_tag.startswith('N'):\n",
        "            return wordnet.NOUN\n",
        "        elif treebank_tag.startswith('R'):\n",
        "            return wordnet.ADV\n",
        "        else:\n",
        "            # As default pos in lemmatization is Noun\n",
        "            return wordnet.NOUN\n",
        "\n",
        "def labels_as_strings(vector_of_indices): # funkcja pomocnicza zamieniająca identyfikatory numeryczne na tekstowe\n",
        "    return [dataset_train.target_names[ind] for ind in vector_of_indices]\n",
        "\n",
        "\n",
        "print(\"Pobieranie danych\")\n",
        "categories = ['misc.forsale', 'soc.religion.christian', 'sci.space', 'talk.politics.guns',\n",
        "              'comp.graphics', 'sci.med',  'rec.motorcycles',  'sci.med',\n",
        "              'sci.electronics', 'talk.politics.misc', 'comp.sys.mac.hardware'] # lista kategorii, które chcemy analizować\n",
        "\n",
        "dataset_train = fetch_20newsgroups(subset='train',\n",
        "                                   categories=categories,\n",
        "                                   shuffle=True,\n",
        "                                   random_state=42) # pobieramy zbiór uczący (na nim będziemy trenować) dla wybranych kategorii.\n",
        "\n",
        "\n",
        "dataset_test = fetch_20newsgroups(subset='test',\n",
        "                                  categories=categories,\n",
        "                                  shuffle=True,\n",
        "                                  random_state=42) # pobieramy zbiór testowy (na nim będziemy testować) dla wybranych kategorii\n",
        "\n",
        "\n",
        "\n",
        "print(\"Tworzenie pipeline'u\")\n",
        "pipeline = Pipeline([             # stwórzmy pipeline surowy tekst -> vectorizer -> klasyfikator\n",
        "    ('vectorizer', CountVectorizer(tokenizer=TheTokenizer(), max_features=1000)), # lepszy jest TfidfVectorizer\n",
        "    ('clf', MultinomialNB()),\n",
        "])\n",
        "\n",
        "\n",
        "print(\"Uczenie pipeline'u\")\n",
        "pipeline.fit(dataset_train.data, dataset_train.target) # trenujemy klasyfikator!\n",
        "\n",
        "\n",
        "print(\"Ile różnych słów tworzy wektor bag of words (jaki jest rozmiar słownika?)?\")\n",
        "print(\"W słowniku znajduje się {n} różnych słów\".format(\n",
        "    n=len(pipeline.named_steps['vectorizer'].vocabulary_.keys())\n",
        "))\n",
        "\n",
        "\n",
        "print(\"Ocena klasyfikatora\")\n",
        "print(classification_report(labels_as_strings(dataset_test.target), labels_as_strings(pipeline.predict(dataset_test.data)))) # testowanie klasyfikatora - szerokie podsumowanie uwzględniające miary: precision, recall, f1"
      ]
    },
    {
      "cell_type": "code",
      "execution_count": null,
      "metadata": {
        "collapsed": true,
        "id": "dgGyTC3ctpjZ"
      },
      "outputs": [],
      "source": [
        "Top 1000 - CountVectorizer\n",
        "      Precision:   Recall:   F1:\n",
        "      0.68      0.67      0.67\n",
        "Top 1000 - TfIDF:\n",
        "    Bez usuwania stopwords:\n",
        "        Precision:   Recall:   F1:\n",
        "         0.74      0.72      0.72\n",
        "    Usuwanie stopwords:\n",
        "        Precision:   Recall:   F1:\n",
        "         0.75      0.74      0.74\n",
        "    Usuwanie stopwords + stemming:\n",
        "        Precision:   Recall:   F1:\n",
        "        0.78      0.77      0.77\n",
        "    Usuwanie stopwords + lematyzacja:\n",
        "        Precision:   Recall:   F1:\n",
        "         0.79      0.78      0.77\n"
      ]
    }
  ],
  "metadata": {
    "kernelspec": {
      "display_name": "Python 3",
      "language": "python",
      "name": "python3"
    },
    "language_info": {
      "codemirror_mode": {
        "name": "ipython",
        "version": 3
      },
      "file_extension": ".py",
      "mimetype": "text/x-python",
      "name": "python",
      "nbconvert_exporter": "python",
      "pygments_lexer": "ipython3",
      "version": "3.6.9"
    },
    "colab": {
      "provenance": []
    }
  },
  "nbformat": 4,
  "nbformat_minor": 0
}